{
 "cells": [
  {
   "cell_type": "code",
   "execution_count": 1,
   "id": "0f2239f2-3440-4c58-9a34-72973a491804",
   "metadata": {
    "tags": []
   },
   "outputs": [],
   "source": [
    "import random\n",
    "import scipy\n",
    "import math\n",
    "import sklearn\n",
    "from alepython import ale_plot\n",
    "from scipy.stats import linregress\n",
    "from scipy import stats\n",
    "from glob import glob\n",
    "import seaborn as sns\n",
    "import pickle5 as pickle\n",
    "from rfpimp import *\n",
    "import pandas as pd\n",
    "import numpy as np\n",
    "from sklearn.ensemble import RandomForestRegressor\n",
    "from sklearn.model_selection import GridSearchCV\n",
    "from sklearn.model_selection import train_test_split\n",
    "from sklearn.model_selection import StratifiedKFold\n",
    "from sklearn.metrics import confusion_matrix\n",
    "from sklearn.metrics import mean_squared_error\n",
    "from sklearn.metrics import matthews_corrcoef"
   ]
  },
  {
   "cell_type": "markdown",
   "id": "a6bcedb2-68f6-4e03-a0ea-43a2bf503b98",
   "metadata": {},
   "source": [
    "# 1. Import training dataset"
   ]
  },
  {
   "cell_type": "code",
   "execution_count": 12,
   "id": "f8c6867f-1b81-4834-909a-18d9d7eafe7c",
   "metadata": {},
   "outputs": [],
   "source": [
    "with open('file/feat_mean.pkl', 'rb') as handle:\n",
    "    feature_ = pickle.load(handle)\n",
    "    \n",
    "with open('file/ave_hsa.pkl', 'rb') as handle:\n",
    "    hsa_ = pickle.load(handle)\n",
    "    \n",
    "with open('file/name_list.pkl', 'rb') as handle:\n",
    "    name_list = pickle.load(handle)\n",
    "\n",
    "fl = pd.ExcelFile(\"file/GRN.xls\")\n",
    "type_ = fl.parse(0)[[\"model_name (alias)\",\"types\"]].drop_duplicates().query(\"types == 'ONCO'\")[\"model_name (alias)\"].tolist()\n",
    "col_ = ['ABL1', 'ABL2', 'AKT_i', 'APC', 'AXIN1', 'BAD', 'BAK1', 'BAX', 'BCL2', 'BCLXL', 'BID', 'BIM', 'CASP3', 'CASP8', 'CASP9', 'CDKN2A', 'CEBPB', 'CREB1', 'CTNNB1', 'CYCLIN_D_c', 'CYCS', 'DC', 'DLL_i', 'DVL1', 'E2F1', 'EGF', 'EGFR', 'EIF4E', 'ERK_i', 'ES', 'ESR1', 'FADD', 'FAS', 'FASLG', 'FOXO1', 'FOXO3', 'FZD3', 'GATA3', 'GRB2', 'GRB7', 'GSK3B', 'HER2', 'HER3', 'HES1', 'HEY1', 'HRAS', 'HSP90AA1', 'IGF1', 'IGF1R', 'IL1B', 'IL6', 'IL6R', 'IL8', 'INS', 'INSR', 'IRS1', 'IVEBP1', 'JAK2', 'JUN', 'KMT2D', 'KRT14', 'LATS1', 'LCK', 'MAPK8', 'MCL1', 'MDM2', 'MEK_i', 'MTORC1_c', 'MTORC2_c', 'MYC', 'MYOD1', 'MYOG', 'NCID', 'NEDD4L', 'NF1', 'NF2', 'NFKB1', 'NOS3', 'NOTCH1', 'NRG1', 'P21', 'P53', 'PAK1', 'PAK2', 'PAX7', 'PDPK1', 'PG', 'PGR', 'PI3K_c', 'PIM', 'PIP3', 'PPARG', 'PRB', 'PRKAA2', 'PRKACA', 'PTEN', 'RAC1', 'RAF1', 'RAS_i', 'RELA', 'RHEB', 'RND1', 'S6K1', 'SGK1', 'SOS1', 'SRC', 'STAT1', 'STAT3', 'STAT5', 'STK11', 'TCF4', 'TEAD1', 'TRADD', 'TSC2', 'TWIST1', 'WNT1', 'YAP1']\n",
    "\n",
    "\n"
   ]
  },
  {
   "cell_type": "code",
   "execution_count": 3,
   "id": "c087ebbb-554d-42fd-beb7-ae29c3358845",
   "metadata": {},
   "outputs": [
    {
     "name": "stdout",
     "output_type": "stream",
     "text": [
      "     synergy_hsa  cell_line_name  hsa_cat stratify_index\n",
      "0       3.705799               5        1             51\n",
      "1       9.748245               5        1             51\n",
      "2      -0.393017               2        0             20\n",
      "3      -1.682197               5        0             50\n",
      "4       0.634869               2        1             21\n",
      "..           ...             ...      ...            ...\n",
      "569     4.626205               2        1             21\n",
      "570    -2.368887               5        0             50\n",
      "571    -7.836692               2        0             20\n",
      "572     7.027783               5        1             51\n",
      "573    -0.949728               1        0             10\n",
      "\n",
      "[574 rows x 4 columns]\n"
     ]
    }
   ],
   "source": [
    "dat = pd.read_csv(\"file/drugcomb_RF_574.csv\")\n",
    "cl_index = dat[[\"synergy_hsa\",\"cell_line_name\"]].replace(\"BT-549\", 1).replace(\"MDA-MB-468\", 2).replace(\"MDA-MB-231\", 3).replace(\"MCF7\", 4).replace(\"T-47D\",5)\n",
    "cl_index[\"hsa_cat\"] = np.where(cl_index[\"synergy_hsa\"]>0,1,0)\n",
    "cl_index[\"stratify_index\"] = cl_index[\"cell_line_name\"].astype(str) + cl_index[\"hsa_cat\"].astype(str)\n",
    "group_ = cl_index[\"stratify_index\"].to_list()\n",
    "print(cl_index)"
   ]
  },
  {
   "cell_type": "markdown",
   "id": "e6c5c842-8209-41e6-a6b0-cbfa54e44a83",
   "metadata": {},
   "source": [
    "# 2. Train model"
   ]
  },
  {
   "cell_type": "code",
   "execution_count": 4,
   "id": "71782331-46ac-4869-82d0-32ed8f352680",
   "metadata": {},
   "outputs": [],
   "source": [
    "RF = RandomForestRegressor(random_state=42,oob_score=True,n_jobs=-1)\n",
    "\n",
    "model_01 = {\n",
    "    'max_depth': 4,\n",
    "    'max_samples': 0.7,\n",
    "    'ccp_alpha': 0.5,\n",
    "    'min_samples_leaf': 16,\n",
    "    'min_samples_split': 32,\n",
    "    'n_estimators': 2000}\n",
    "\n",
    "model_02 = {\n",
    "    'max_depth': 5,\n",
    "    'max_samples': 0.7,\n",
    "    'ccp_alpha': 0.5,\n",
    "    'min_samples_leaf': 16,\n",
    "    'min_samples_split': 24,\n",
    "    'n_estimators': 2000}\n",
    "\n",
    "model_03 = {\n",
    "    'max_depth': 5,\n",
    "    'max_samples': 0.7,\n",
    "    'ccp_alpha': 0.5,\n",
    "    'min_samples_leaf': 16,\n",
    "    'min_samples_split': 16,\n",
    "    'n_estimators': 2000}\n",
    "\n",
    "model_04 = {\n",
    "    'max_depth': 4,\n",
    "    'max_samples': 0.7,\n",
    "    'ccp_alpha': 0.7,\n",
    "    'min_samples_leaf': 16,\n",
    "    'min_samples_split': 24,\n",
    "    'n_estimators': 2000}\n",
    "\n",
    "model_05 = {\n",
    "    'max_depth': 3,\n",
    "    'max_samples': 0.7,\n",
    "    'ccp_alpha': 0.5,\n",
    "    'min_samples_leaf': 16,\n",
    "    'min_samples_split': 32,\n",
    "    'n_estimators': 2000}\n",
    "\n",
    "\n",
    "ensemble_list = [model_01,model_02,model_03,model_04,model_05]"
   ]
  },
  {
   "cell_type": "code",
   "execution_count": 5,
   "id": "a8722e78-570d-4366-8cfb-00f07acc6507",
   "metadata": {
    "tags": []
   },
   "outputs": [
    {
     "name": "stdout",
     "output_type": "stream",
     "text": [
      "{'max_depth': 4, 'max_samples': 0.7, 'ccp_alpha': 0.5, 'min_samples_leaf': 16, 'min_samples_split': 32, 'n_estimators': 2000}\n",
      "{'max_depth': 5, 'max_samples': 0.7, 'ccp_alpha': 0.5, 'min_samples_leaf': 16, 'min_samples_split': 24, 'n_estimators': 2000}\n",
      "{'max_depth': 5, 'max_samples': 0.7, 'ccp_alpha': 0.5, 'min_samples_leaf': 16, 'min_samples_split': 16, 'n_estimators': 2000}\n",
      "{'max_depth': 4, 'max_samples': 0.7, 'ccp_alpha': 0.7, 'min_samples_leaf': 16, 'min_samples_split': 24, 'n_estimators': 2000}\n",
      "{'max_depth': 3, 'max_samples': 0.7, 'ccp_alpha': 0.5, 'min_samples_leaf': 16, 'min_samples_split': 32, 'n_estimators': 2000}\n"
     ]
    }
   ],
   "source": [
    "\n",
    "imp_list = [] # feature importance score\n",
    "raw_outer = [] # raw_score from 5 cv\n",
    "res_all  = []\n",
    "\n",
    "fold_out= 5\n",
    "skf_outer = StratifiedKFold(n_splits=fold_out,random_state=42,shuffle=True)\n",
    "group_ = np.array(cl_index[\"stratify_index\"].to_list())\n",
    "\n",
    "\"\"\"\n",
    "outer fold\n",
    "\"\"\"\n",
    "\n",
    "for i, (train_outer, test_outer) in enumerate(skf_outer.split(group_, group_)):\n",
    "    \n",
    "    #iterating through five models\n",
    "    best_param = ensemble_list[i]\n",
    "    print(best_param)\n",
    "\n",
    "    #spliting data based on outer fold \n",
    "    Xtrain_cv,ytrain_cv = feature_[train_outer], hsa_[train_outer]\n",
    "    Xtest_cv,ytest_cv = feature_[test_outer], hsa_[test_outer]\n",
    "\n",
    "    #stratifing inner fold from split outer fold\n",
    "    fold_in = 5\n",
    "    skf_inner = StratifiedKFold(n_splits=fold_in,random_state=42,shuffle=True)\n",
    "    group_inner = [group_[__inner__] for __inner__ in train_outer]\n",
    "    \n",
    "    \"\"\"\n",
    "    inner fold\n",
    "    \"\"\"\n",
    "    cv_outer = []\n",
    "    cv_inner_raw = []\n",
    "    \n",
    "    for j, (train_in, val_in) in enumerate(skf_inner.split(group_inner,group_inner)):\n",
    "\n",
    "        Xtrain_in,ytrain_in = Xtrain_cv[train_in], ytrain_cv[train_in]\n",
    "        Xval_in,yval_in = Xtrain_cv[val_in], ytrain_cv[val_in]\n",
    "        \n",
    "        \"\"\"\n",
    "        1. configure the best model\n",
    "        \"\"\"\n",
    "        \n",
    "        best_model = RF.set_params(**best_param)\n",
    "        best_model.fit(Xtrain_in,ytrain_in)\n",
    "\n",
    "        \"\"\"\n",
    "        2. evaluate feature importance from out-of-bag sampling\n",
    "        \"\"\"\n",
    "        imp = permutation_importances(best_model, pd.DataFrame(Xtrain_in,columns=col_), ytrain_in,oob_regression_r2_score)\n",
    "        imp_df_ = imp.reset_index()\n",
    "        imp_df_[\"inner\"] = j\n",
    "        imp_df_[\"outer\"] = i\n",
    "        imp_list.append(imp_df_)\n",
    "        \n",
    "        \"\"\"\n",
    "        3. summarize the model performance of training and validating fold\n",
    "        \"\"\"\n",
    "        pred_train = best_model.predict(Xtrain_in)\n",
    "        pred_validation = best_model.predict(Xval_in)\n",
    "        score_train_in = scipy.stats.pearsonr(ytrain_in,pred_train)[0]\n",
    "        score_validation_in = scipy.stats.pearsonr(yval_in,pred_validation)[0]\n",
    "        \n",
    "        \"\"\"\n",
    "        4. collect raw predictions\n",
    "        \"\"\"\n",
    "        df_val = pd.DataFrame([pred_validation,yval_in]).T\n",
    "        df_val.columns = [\"prediction\",\"experiment\"]\n",
    "        df_val[\"type\"] = \"validation\"\n",
    "\n",
    "        df_train = pd.DataFrame([pred_train,ytrain_in]).T\n",
    "        df_train.columns = [\"prediction\",\"experiment\"]\n",
    "        df_train[\"type\"] = \"training\"\n",
    "        combine_raw = pd.concat([df_train,df_val])\n",
    "        combine_raw[\"inner_fold\"] = j\n",
    "        \n",
    "\n",
    "        \"\"\"\n",
    "        5. append (3) and (4) into list\n",
    "        \"\"\"\n",
    "        cv_inner_raw.append(combine_raw)\n",
    "        cv_outer.append([i,j,score_train_in,score_validation_in])\n",
    "        \n",
    "        \n",
    "    \"\"\"\n",
    "    6. Summarize the prediction of the outer fold to (5)\n",
    "    \"\"\"\n",
    "    \n",
    "    #6.1 combine predicted testing fold with (5)\n",
    "    res_ = pd.DataFrame(cv_outer,columns=[\"round\",\"folder_inner\",\"training\",\"validating\"])\n",
    "    best_model = RF.set_params(**best_param)\n",
    "    best_model.fit(Xtrain_cv,ytrain_cv)\n",
    "    pred_test = best_model.predict(Xtest_cv)    \n",
    "    score_test = scipy.stats.pearsonr(ytest_cv,pred_test)[0]\n",
    "    res_[\"testing\"] = score_test\n",
    "\n",
    "    #6.2 curate the optimal hyperparameter into table\n",
    "    df_p = pd.DataFrame(best_param.items()).T\n",
    "    df_p_2 = df_p.iloc[1:,:]\n",
    "    df_p_2.columns = df_p.iloc[0,:]\n",
    "    df_param = pd.concat([df_p_2]*fold_in)\n",
    "    \n",
    "    #6.3 concatenate 6.1 and 6.2 as a single dataframe\n",
    "    res_final = pd.concat([res_.reset_index(),df_param.reset_index()],axis=1)\n",
    "    res_all.append(res_final)    \n",
    "    \n",
    "    \"\"\"\n",
    "    7. Summarize as the raw score\n",
    "    \"\"\"\n",
    "\n",
    "    df_test = pd.DataFrame([pred_test,ytest_cv]).T\n",
    "    df_test.columns = [\"prediction\",\"experiment\"]\n",
    "    df_test[\"type\"] = 'testing'\n",
    "    df_test[\"inner_fold\"] = 9999\n",
    "\n",
    "    df_raw = pd.concat(cv_inner_raw)\n",
    "    df_raw_ = pd.concat([df_raw,df_test])\n",
    "    df_raw_[\"outer_fold\"] = i\n",
    "    raw_outer.append(df_raw_)\n",
    "\n",
    "\n",
    "pdf = pd.concat(res_all)\n",
    "pdf.to_csv(\"result/res_RF.csv\")\n",
    "pd.concat(raw_outer).to_csv(\"result/raw_score_RF.csv\")\n"
   ]
  },
  {
   "cell_type": "markdown",
   "id": "e8f5084f-3bce-40c4-9635-603a19079900",
   "metadata": {},
   "source": [
    "# 3. Save model"
   ]
  },
  {
   "cell_type": "code",
   "execution_count": 6,
   "id": "7e7ec221-34af-4d59-990b-fd8836b0fde5",
   "metadata": {
    "tags": []
   },
   "outputs": [
    {
     "name": "stdout",
     "output_type": "stream",
     "text": [
      "{'max_depth': 4, 'max_samples': 0.7, 'ccp_alpha': 0.5, 'min_samples_leaf': 16, 'min_samples_split': 32, 'n_estimators': 2000}\n",
      "{'max_depth': 5, 'max_samples': 0.7, 'ccp_alpha': 0.5, 'min_samples_leaf': 16, 'min_samples_split': 24, 'n_estimators': 2000}\n",
      "{'max_depth': 5, 'max_samples': 0.7, 'ccp_alpha': 0.5, 'min_samples_leaf': 16, 'min_samples_split': 16, 'n_estimators': 2000}\n",
      "{'max_depth': 4, 'max_samples': 0.7, 'ccp_alpha': 0.7, 'min_samples_leaf': 16, 'min_samples_split': 24, 'n_estimators': 2000}\n",
      "{'max_depth': 3, 'max_samples': 0.7, 'ccp_alpha': 0.5, 'min_samples_leaf': 16, 'min_samples_split': 32, 'n_estimators': 2000}\n"
     ]
    }
   ],
   "source": [
    "### SAVE MODEL #####\n",
    "param = pd.read_csv(\"result/res_RF.csv\")\n",
    "RF = RandomForestRegressor(random_state=42,oob_score=True,n_jobs=-1)\n",
    "param_list=[]\n",
    "for p_ in range(5):\n",
    "    prep_df = param.query(\"round == @p_\").iloc[:,8:].drop_duplicates().T.reset_index()\n",
    "    prep_df.columns = [\"param_\",\"value\"]\n",
    "    param_dict = dict(zip(prep_df.param_, prep_df.value))\n",
    "    param_dict[\"n_estimators\"]=int(param_dict[\"n_estimators\"])\n",
    "    param_dict[\"max_depth\"]=int(param_dict[\"max_depth\"])\n",
    "    param_dict[\"min_samples_leaf\"]=int(param_dict[\"min_samples_leaf\"])\n",
    "    param_dict[\"min_samples_split\"]=int(param_dict[\"min_samples_split\"])\n",
    "    param_list.append(param_dict)\n",
    "    \n",
    "param_list = [i for n, i in enumerate(param_list) if i not in param_list[n + 1:]]\n",
    "\n",
    "\n",
    "value_list = []\n",
    "cnt=0\n",
    "for para in param_list:\n",
    "    print(para)\n",
    "    RF = RandomForestRegressor(random_state=42,oob_score=True,n_jobs=-1)\n",
    "    best_model = RF.set_params(**para)\n",
    "    best_model.fit(feature_,hsa_)\n",
    "    pickle.dump(best_model, open('result/refitted_RF_'+str(cnt), 'wb'))\n",
    "    cnt = cnt + 1\n"
   ]
  },
  {
   "cell_type": "markdown",
   "id": "3ed09e14-9256-4447-bf4e-659038f387a3",
   "metadata": {},
   "source": [
    "# 4. Extract feature importance from out-of-bag sampling"
   ]
  },
  {
   "cell_type": "code",
   "execution_count": 7,
   "id": "01575360-839e-434a-93c2-4aebb9e15e4c",
   "metadata": {},
   "outputs": [],
   "source": [
    "pd.concat(imp_list).to_csv(\"result/feat_raw_imp.csv\")\n",
    "pd.read_csv(\"result/feat_raw_imp.csv\").groupby([\"Feature\",\"outer\"]).mean().reset_index().to_csv(\"feat_imp.csv\")"
   ]
  },
  {
   "cell_type": "code",
   "execution_count": 10,
   "id": "6fdd30d2-9274-4356-b2a0-b5ae36d80c28",
   "metadata": {
    "tags": []
   },
   "outputs": [],
   "source": [
    "df3 = pd.read_csv(\"result/feat_raw_imp.csv\").groupby([\"Feature\"]).mean().sort_values(by=\"Importance\",ascending=False).head(n=30).reset_index()\n",
    "fim = df3.Feature.tolist()\n",
    "dfe = pd.DataFrame(feature_,columns=col_)[fim]\n",
    "dfe[\"hsa\"] = hsa_\n",
    "dfe[\"index\"] = dfe.index"
   ]
  },
  {
   "cell_type": "code",
   "execution_count": 13,
   "id": "43507f7c-76fc-4bef-9fc0-12c62c2f5827",
   "metadata": {},
   "outputs": [],
   "source": [
    "mdf = dfe.melt(id_vars=[\"hsa\",\"index\"])\n",
    "mdf[\"hsa\"] = np.where(mdf[\"hsa\"] > 0,1,0)\n",
    "mdf2 = mdf.copy()\n",
    "mdf2[\"cat\"] = np.where(mdf2[\"variable\"].isin(type_),\"ONCO\",\"TMR\")\n",
    "mdf2[\"hsa\"] = np.where(mdf2[\"hsa\"]==0,\"Antagonistic group\",\"Synergistic group\")\n",
    "mdf2.groupby([\"hsa\",\"variable\",\"cat\"]).mean().reset_index().to_csv(\"global.csv\")"
   ]
  },
  {
   "cell_type": "code",
   "execution_count": null,
   "id": "130dd42d",
   "metadata": {},
   "outputs": [],
   "source": [
    "cnt = 0\n",
    "\n",
    "for i in range(5):\n",
    "    \n",
    "    slope_ = []\n",
    "\n",
    "    for g_ in col_:\n",
    "        print(cnt)\n",
    "        best_model0 = pickle.load(open('result/refitted_RF_'+str(i), 'rb'))\n",
    "        plt_=ale_plot(best_model0,pd.DataFrame(feature_,columns=col_), g_, monte_carlo=True)\n",
    "        y_=plt_.get_lines()[0].get_xydata()[:,1]\n",
    "        x_=plt_.get_lines()[0].get_xydata()[:,0]\n",
    "        slope, intercept, r_value, p_value, std_err = linregress(x_, y_)\n",
    "\n",
    "        df_1 = pd.DataFrame([x_,y_]).T\n",
    "        df_1.columns = [\"X\",\"Y\"]\n",
    "        df_1[\"slope\"] = slope\n",
    "        df_1[\"gene\"] = g_\n",
    "        slope_.append(df_1)\n",
    "        cnt+=0\n",
    "\n",
    "    pd.concat(slope_).to_csv('result/ALE'+str(i)+'.csv')"
   ]
  },
  {
   "cell_type": "markdown",
   "id": "c53aac73-ca57-41ad-a2fc-763f054825b8",
   "metadata": {},
   "source": [
    "# 5. Visualize model's performance"
   ]
  },
  {
   "cell_type": "code",
   "execution_count": 16,
   "id": "7b458c36-7441-481e-ab2c-ff4f4757cc81",
   "metadata": {},
   "outputs": [],
   "source": [
    "def cal_perf(g):\n",
    "   \n",
    "    experiment_score = g['experiment'].to_numpy()\n",
    "    predicted_score  = g['prediction'].to_numpy()\n",
    "    \n",
    "    pred_cat_ = [0 if i <= 0 else 1 for i in predicted_score]\n",
    "    obs_cat_ = [0 if i <= 0 else 1 for i in experiment_score]\n",
    "    \n",
    "    tn, fp, fn, tp = metrics.confusion_matrix(obs_cat_,pred_cat_).ravel()\n",
    "    norm_obs = sklearn.preprocessing.minmax_scale(predicted_score, feature_range=(0,1))\n",
    "    fpr, tpr, thresholds = metrics.roc_curve(obs_cat_,norm_obs)\n",
    "    \n",
    "    mse = mean_squared_error(experiment_score,predicted_score)\n",
    "    spec = tn/(tn+fp)\n",
    "    sen = tp/(tp+fn)\n",
    "    fpr_ = fp/(fp+tn)\n",
    "    AUC_ = sklearn.metrics.auc(fpr, tpr)\n",
    "    MCC = matthews_corrcoef(obs_cat_, pred_cat_)\n",
    "    \n",
    "    Pearson = np.corrcoef(experiment_score, predicted_score)[0, 1]\n",
    "    \n",
    "    return pd.Series(dict(Pearsoncorrelatioin=Pearson, MSE = mse, AUC=AUC_, Sensitivity=sen, Specificity=spec,MCC=MCC,FPR=fpr_))\n"
   ]
  },
  {
   "cell_type": "code",
   "execution_count": 17,
   "id": "865af935-9b68-4a43-ba63-ed3f73919556",
   "metadata": {},
   "outputs": [],
   "source": [
    "def cal_perf2(x,y):\n",
    "    \n",
    "    cor_ = np.corrcoef(x, y)[0,1]\n",
    "    \n",
    "    ###\n",
    "\n",
    "    pred_cat_ = [0 if i <= 0 else 1 for i in y]\n",
    "    obs_cat_ = [0 if i <= 0 else 1 for i in x]\n",
    "    tn, fp, fn, tp = metrics.confusion_matrix(obs_cat_,pred_cat_).ravel()\n",
    "    norm_obs = sklearn.preprocessing.minmax_scale(y, feature_range=(0,1))\n",
    "    fpr, tpr, thresholds = metrics.roc_curve(obs_cat_,norm_obs)\n",
    "\n",
    "    spec = tn/(tn+fp)\n",
    "    sen = tp/(tp+fn)\n",
    "    fpr_ = fp/(fp+tn)\n",
    "    AUC_ = sklearn.metrics.auc(fpr, tpr)\n",
    "\n",
    "    res = pd.DataFrame([cor_,AUC_,sen,spec,fpr_],columns=[\"value\"])\n",
    "    res[\"index\"] = [\"correlation\",\"AUC\",\"Sensitivity\",\"Specficity\",\"FPR\"]\n",
    "    return res\n"
   ]
  },
  {
   "cell_type": "code",
   "execution_count": 18,
   "id": "bf628260-6139-4399-9e23-4d2639eaa2dc",
   "metadata": {},
   "outputs": [
    {
     "data": {
      "text/plain": [
       "<AxesSubplot:xlabel='variable', ylabel='value'>"
      ]
     },
     "execution_count": 18,
     "metadata": {},
     "output_type": "execute_result"
    },
    {
     "data": {
      "image/png": "[encoded data removed]",
      "text/plain": [
       "<Figure size 560x400 with 1 Axes>"
      ]
     },
     "metadata": {
      "needs_background": "light"
     },
     "output_type": "display_data"
    }
   ],
   "source": [
    "import seaborn as sns\n",
    "from matplotlib.pyplot import figure\n",
    "figure(figsize=(7, 5), dpi=80)\n",
    "#RF_param/res_RF_hightree0.csv\n",
    "plot_ = pd.read_csv(\"result/res_RF.csv\")[[\"round\",\"folder_inner\",\"training\",\"validating\",\"testing\"]].melt(id_vars=[\"round\",\"folder_inner\"])\n",
    "sns.boxplot(data=plot_, x=\"variable\", y=\"value\",hue=\"round\")"
   ]
  },
  {
   "cell_type": "code",
   "execution_count": 19,
   "id": "f51d2347-b7ac-48d8-8c74-01ba370b1b4e",
   "metadata": {
    "tags": []
   },
   "outputs": [
    {
     "data": {
      "text/html": [
       "<div>\n",
       "<style scoped>\n",
       "    .dataframe tbody tr th:only-of-type {\n",
       "        vertical-align: middle;\n",
       "    }\n",
       "\n",
       "    .dataframe tbody tr th {\n",
       "        vertical-align: top;\n",
       "    }\n",
       "\n",
       "    .dataframe thead th {\n",
       "        text-align: right;\n",
       "    }\n",
       "</style>\n",
       "<table border=\"1\" class=\"dataframe\">\n",
       "  <thead>\n",
       "    <tr style=\"text-align: right;\">\n",
       "      <th>type</th>\n",
       "      <th>training</th>\n",
       "      <th>validation</th>\n",
       "      <th>testing</th>\n",
       "    </tr>\n",
       "    <tr>\n",
       "      <th>index</th>\n",
       "      <th></th>\n",
       "      <th></th>\n",
       "      <th></th>\n",
       "    </tr>\n",
       "  </thead>\n",
       "  <tbody>\n",
       "    <tr>\n",
       "      <th>AUC</th>\n",
       "      <td>0.784068</td>\n",
       "      <td>0.679427</td>\n",
       "      <td>0.673697</td>\n",
       "    </tr>\n",
       "    <tr>\n",
       "      <th>FPR</th>\n",
       "      <td>0.478455</td>\n",
       "      <td>0.581142</td>\n",
       "      <td>0.608824</td>\n",
       "    </tr>\n",
       "    <tr>\n",
       "      <th>Sensitivity</th>\n",
       "      <td>0.857944</td>\n",
       "      <td>0.795088</td>\n",
       "      <td>0.810268</td>\n",
       "    </tr>\n",
       "    <tr>\n",
       "      <th>Specficity</th>\n",
       "      <td>0.521545</td>\n",
       "      <td>0.418858</td>\n",
       "      <td>0.391176</td>\n",
       "    </tr>\n",
       "    <tr>\n",
       "      <th>correlation</th>\n",
       "      <td>0.619670</td>\n",
       "      <td>0.391151</td>\n",
       "      <td>0.403406</td>\n",
       "    </tr>\n",
       "  </tbody>\n",
       "</table>\n",
       "</div>"
      ],
      "text/plain": [
       "type         training  validation   testing\n",
       "index                                      \n",
       "AUC          0.784068    0.679427  0.673697\n",
       "FPR          0.478455    0.581142  0.608824\n",
       "Sensitivity  0.857944    0.795088  0.810268\n",
       "Specficity   0.521545    0.418858  0.391176\n",
       "correlation  0.619670    0.391151  0.403406"
      ]
     },
     "execution_count": 19,
     "metadata": {},
     "output_type": "execute_result"
    }
   ],
   "source": [
    "from sklearn import metrics\n",
    "\n",
    "perf =pd.read_csv(\"result/raw_score_RF.csv\").iloc[:,1:]\n",
    "perf_ = perf.groupby([\"type\",\"outer_fold\",\"inner_fold\"]).apply(lambda x: cal_perf2(x.experiment,x.prediction)).reset_index()\n",
    "perf_2 = perf_.groupby([\"type\",\"index\"]).mean().reset_index()[[\"type\",\"index\",\"value\"]]\n",
    "pd.pivot_table(perf_2, values='value', index='index',columns='type')[[\"training\",\"validation\",\"testing\"]]"
   ]
  },
  {
   "cell_type": "code",
   "execution_count": 21,
   "id": "8c9836e8-bb78-48c6-ba67-54463c888134",
   "metadata": {},
   "outputs": [
    {
     "data": {
      "text/html": [
       "<div>\n",
       "<style scoped>\n",
       "    .dataframe tbody tr th:only-of-type {\n",
       "        vertical-align: middle;\n",
       "    }\n",
       "\n",
       "    .dataframe tbody tr th {\n",
       "        vertical-align: top;\n",
       "    }\n",
       "\n",
       "    .dataframe thead th {\n",
       "        text-align: right;\n",
       "    }\n",
       "</style>\n",
       "<table border=\"1\" class=\"dataframe\">\n",
       "  <thead>\n",
       "    <tr style=\"text-align: right;\">\n",
       "      <th></th>\n",
       "      <th>index</th>\n",
       "      <th>Pearsoncorrelatioin</th>\n",
       "      <th>MSE</th>\n",
       "      <th>AUC</th>\n",
       "      <th>Sensitivity</th>\n",
       "      <th>Specificity</th>\n",
       "      <th>MCC</th>\n",
       "      <th>FPR</th>\n",
       "      <th>type</th>\n",
       "    </tr>\n",
       "  </thead>\n",
       "  <tbody>\n",
       "    <tr>\n",
       "      <th>0</th>\n",
       "      <td>mean</td>\n",
       "      <td>0.619566</td>\n",
       "      <td>29.345511</td>\n",
       "      <td>0.782381</td>\n",
       "      <td>0.857979</td>\n",
       "      <td>0.521555</td>\n",
       "      <td>0.407661</td>\n",
       "      <td>0.478445</td>\n",
       "      <td>training</td>\n",
       "    </tr>\n",
       "    <tr>\n",
       "      <th>1</th>\n",
       "      <td>std</td>\n",
       "      <td>0.027367</td>\n",
       "      <td>0.827300</td>\n",
       "      <td>0.010810</td>\n",
       "      <td>0.021191</td>\n",
       "      <td>0.017565</td>\n",
       "      <td>0.026035</td>\n",
       "      <td>0.017565</td>\n",
       "      <td>training</td>\n",
       "    </tr>\n",
       "    <tr>\n",
       "      <th>2</th>\n",
       "      <td>mean</td>\n",
       "      <td>0.381491</td>\n",
       "      <td>36.764534</td>\n",
       "      <td>0.676212</td>\n",
       "      <td>0.795088</td>\n",
       "      <td>0.418573</td>\n",
       "      <td>0.231749</td>\n",
       "      <td>0.581427</td>\n",
       "      <td>validation</td>\n",
       "    </tr>\n",
       "    <tr>\n",
       "      <th>3</th>\n",
       "      <td>std</td>\n",
       "      <td>0.027972</td>\n",
       "      <td>0.896662</td>\n",
       "      <td>0.009667</td>\n",
       "      <td>0.011141</td>\n",
       "      <td>0.019264</td>\n",
       "      <td>0.017774</td>\n",
       "      <td>0.019264</td>\n",
       "      <td>validation</td>\n",
       "    </tr>\n",
       "    <tr>\n",
       "      <th>4</th>\n",
       "      <td>mean</td>\n",
       "      <td>0.403406</td>\n",
       "      <td>36.337025</td>\n",
       "      <td>0.673697</td>\n",
       "      <td>0.810268</td>\n",
       "      <td>0.391176</td>\n",
       "      <td>0.224943</td>\n",
       "      <td>0.608824</td>\n",
       "      <td>testing</td>\n",
       "    </tr>\n",
       "    <tr>\n",
       "      <th>5</th>\n",
       "      <td>std</td>\n",
       "      <td>0.065902</td>\n",
       "      <td>3.556351</td>\n",
       "      <td>0.060753</td>\n",
       "      <td>0.063808</td>\n",
       "      <td>0.049180</td>\n",
       "      <td>0.121585</td>\n",
       "      <td>0.049180</td>\n",
       "      <td>testing</td>\n",
       "    </tr>\n",
       "  </tbody>\n",
       "</table>\n",
       "</div>"
      ],
      "text/plain": [
       "  index  Pearsoncorrelatioin        MSE       AUC  Sensitivity  Specificity  \\\n",
       "0  mean             0.619566  29.345511  0.782381     0.857979     0.521555   \n",
       "1   std             0.027367   0.827300  0.010810     0.021191     0.017565   \n",
       "2  mean             0.381491  36.764534  0.676212     0.795088     0.418573   \n",
       "3   std             0.027972   0.896662  0.009667     0.011141     0.019264   \n",
       "4  mean             0.403406  36.337025  0.673697     0.810268     0.391176   \n",
       "5   std             0.065902   3.556351  0.060753     0.063808     0.049180   \n",
       "\n",
       "        MCC       FPR        type  \n",
       "0  0.407661  0.478445    training  \n",
       "1  0.026035  0.017565    training  \n",
       "2  0.231749  0.581427  validation  \n",
       "3  0.017774  0.019264  validation  \n",
       "4  0.224943  0.608824     testing  \n",
       "5  0.121585  0.049180     testing  "
      ]
     },
     "execution_count": 21,
     "metadata": {},
     "output_type": "execute_result"
    }
   ],
   "source": [
    "dat_ = []\n",
    "for i in [\"training\",\"validation\",\"testing\"]:\n",
    "    cc=perf.query(\"type == @i\").groupby(\"outer_fold\").apply(cal_perf).agg([\"mean\",\"std\"])\n",
    "    cc[\"type\"] = i\n",
    "    dat_.append(cc)\n",
    "    \n",
    "plt_ = pd.concat(dat_).reset_index()\n",
    "plt_"
   ]
  },
  {
   "cell_type": "markdown",
   "id": "6ee55804-1130-4a6b-bd5d-277eea4a869a",
   "metadata": {},
   "source": [
    "# 6. Test overfitting between validating and testing fold "
   ]
  },
  {
   "cell_type": "code",
   "execution_count": 22,
   "id": "d8aabad0-c3d8-456e-903a-31f8e80f457b",
   "metadata": {},
   "outputs": [],
   "source": [
    "import scipy.stats as ss\n",
    "dat_ = []\n",
    "for i in [\"training\",\"validation\",\"testing\"]:\n",
    "    cc=perf.query(\"type == @i\").groupby(\"outer_fold\").apply(cal_perf)\n",
    "    cc[\"type\"] = i\n",
    "    dat_.append(cc)"
   ]
  },
  {
   "cell_type": "code",
   "execution_count": 26,
   "id": "f12fd097-269e-45a7-9086-9d1542b26a0c",
   "metadata": {},
   "outputs": [],
   "source": [
    "xall=pd.concat(dat_).query(\"type != 'training'\")"
   ]
  },
  {
   "cell_type": "code",
   "execution_count": 27,
   "id": "352179d5-9407-4216-97d8-e344e8d1d757",
   "metadata": {},
   "outputs": [
    {
     "name": "stdout",
     "output_type": "stream",
     "text": [
      "Pearsoncorrelatioin   p-value:   0.754\n",
      "MSE   p-value:   0.917\n",
      "AUC   p-value:   0.602\n",
      "Sensitivity   p-value:   0.917\n",
      "Specificity   p-value:   0.347\n",
      "MCC   p-value:   0.917\n",
      "FPR   p-value:   0.347\n"
     ]
    }
   ],
   "source": [
    "\n",
    "pv = []\n",
    "for i in range(7):\n",
    "    xall2 = xall.iloc[:,[i,7]]\n",
    "    name_ = xall2.columns[0]\n",
    "    values_per_group = [col for col_name, col in xall2.groupby(\"type\")[name_]]\n",
    "    ss_ = ss.ranksums(*values_per_group)[1]\n",
    "    print(name_+\"   p-value:   \"+str(round(ss_,3)))"
   ]
  },
  {
   "cell_type": "code",
   "execution_count": null,
   "id": "cad7e5dc-b880-4498-8efe-c3ad3bfa9c42",
   "metadata": {},
   "outputs": [],
   "source": []
  }
 ],
 "metadata": {
  "kernelspec": {
   "display_name": "Python 3 (ipykernel)",
   "language": "python",
   "name": "python3"
  },
  "language_info": {
   "codemirror_mode": {
    "name": "ipython",
    "version": 3
   },
   "file_extension": ".py",
   "mimetype": "text/x-python",
   "name": "python",
   "nbconvert_exporter": "python",
   "pygments_lexer": "ipython3",
   "version": "3.9.12"
  }
 },
 "nbformat": 4,
 "nbformat_minor": 5
}
